{
  "nbformat": 4,
  "nbformat_minor": 0,
  "metadata": {
    "colab": {
      "provenance": [],
      "authorship_tag": "ABX9TyP1MKAamVicEXg6l389Ee6p",
      "include_colab_link": true
    },
    "kernelspec": {
      "name": "python3",
      "display_name": "Python 3"
    },
    "language_info": {
      "name": "python"
    }
  },
  "cells": [
    {
      "cell_type": "markdown",
      "metadata": {
        "id": "view-in-github",
        "colab_type": "text"
      },
      "source": [
        "<a href=\"https://colab.research.google.com/github/Jorgecabrera15/Prog_Alg_Taller_3/blob/main/Introduction.ipynb\" target=\"_parent\"><img src=\"https://colab.research.google.com/assets/colab-badge.svg\" alt=\"Open In Colab\"/></a>"
      ]
    },
    {
      "cell_type": "markdown",
      "source": [
        "Jorge Cabrera-000503744-jorge.cabrera@upb.edu.co\n",
        "Jhoan Cogollo-000505385-jhoan.cogolloj@upb.edu.co\n"
      ],
      "metadata": {
        "id": "rwlNpiJgnjPO"
      }
    },
    {
      "cell_type": "code",
      "execution_count": null,
      "metadata": {
        "colab": {
          "base_uri": "https://localhost:8080/"
        },
        "id": "XCIfKgP7KvNH",
        "outputId": "c65b7734-bffe-44eb-fab4-572908606c2c"
      },
      "outputs": [
        {
          "output_type": "stream",
          "name": "stdout",
          "text": [
            "escriba la posicion inicial:20\n",
            "escriba la velocidad inicia:16\n",
            "escriba el tiempo:8.5\n",
            "escriba la aceleracion:6\n",
            "la posicion de una particula 590.0\n"
          ]
        }
      ],
      "source": [
        "\n",
        "#CALCULAR LA POSICION FINAL DE UNA PARTICULA.\n",
        "\n",
        "X0 = float(input(\"Escriba la posicion inicial:\"))\n",
        "V0 = float(input(\"Escriba la velocidad inicia:\"))\n",
        "t = float(input(\"Escriba el tiempo:\"))\n",
        "a = float(input(\"Escriba la aceleracion:\"))\n",
        "\n",
        "\n",
        "X = X0 + V0*t + 0.5 +(a*(t**2))\n",
        "\n",
        "V0 = 16\n",
        "X0 = 20\n",
        "t = 8.5\n",
        "a = 6\n",
        "\n",
        "print(\"la posicion de la particula es: \",X, \"m\")\n",
        "\n"
      ]
    },
    {
      "cell_type": "code",
      "source": [
        "#calcular la distancia entre dos puntos\n",
        "\n",
        "X1 = float(input(\"Escriba la posicion del primer punto en x: \"))\n",
        "Y1 = float(input(\"Escriba la posicion del primer punto en y: \"))\n",
        "\n",
        "X2 = float(input(\"Escriba la posicion del segundo punto en x: \"))\n",
        "Y2 = float(input(\"Escriba la posicion del segundo punto en y: \"))\n",
        "\n",
        "print(\"X1= \",X1)\n",
        "print(\"Y1= \",Y1)\n",
        "print(\"X2= \",X2)\n",
        "print(\"Y2= \",Y2)\n",
        "print(\".\")\n",
        "d= ( ((X2-X1))**2 + ((Y2-Y1))**2)**0.5\n",
        "\n",
        "print(\"La distancia entre los dos puntos es: \",d,\"m\")"
      ],
      "metadata": {
        "colab": {
          "base_uri": "https://localhost:8080/"
        },
        "id": "jnv4V4b7U5GT",
        "outputId": "1f4eabe7-0209-452c-e1b6-ac4c3ad90e16"
      },
      "execution_count": null,
      "outputs": [
        {
          "output_type": "stream",
          "name": "stdout",
          "text": [
            "escriba la posicion del primer punto en x3.7\n",
            "escriba la posicion del primer punto en y 6.2\n",
            "escriba la posicion del segundo punto en x8.9\n",
            "escriba la posicion del segundo punto en y10.25\n",
            "escriba la distancia entre dos puntos 43.4425\n"
          ]
        }
      ]
    },
    {
      "cell_type": "markdown",
      "source": [
        "Problema 3.\n",
        "Calcular y mostrar el valor del volumen de un cilindro cuyo radio y altura sean ingresados por el usuario. El volumen de un cilindro está dado por: 𝑉 = 𝜋𝑟**2ℎ Donde 𝜋 = 3.141592, 𝑟 es el radio y ℎ la altura.\n",
        "\n"
      ],
      "metadata": {
        "id": "vfmGLdpKmOLw"
      }
    },
    {
      "cell_type": "code",
      "source": [
        "#Cálculo volumen de un cilindro\n",
        "pi=3.141592\n",
        "r=float(input(\"Ingrese el radio del cilindro (m):\"))\n",
        "h=float(input(\"Ingrese la altura del cilindro (m):\",))\n",
        "v=pi*(r**2)*h\n",
        "print(\"     .\")\n",
        "print(\"     .\")\n",
        "print(\"     .\")\n",
        "print(\"El volumen del cilindro es:\",v,(\"m^3\"))"
      ],
      "metadata": {
        "id": "n8F7X_Z_mOc9"
      },
      "execution_count": null,
      "outputs": []
    },
    {
      "cell_type": "markdown",
      "source": [
        "Problema 4. Calcular y mostrar el resultado de las siguientes operaciones lógicas:\n",
        "\n",
        "A > B y B > D\n",
        "\n",
        "B <= C o C < D\n",
        "\n",
        "A = B y B > C\n",
        "\n",
        "A < C o B < C\n",
        "\n",
        "A + D < C y B > 5\n",
        "\n",
        "D – C >= - A * B\n",
        "\n",
        "D * C == 5 o C * A > 9\n",
        "\n",
        "A * B + C > - D * 10\n",
        "\n",
        "\n"
      ],
      "metadata": {
        "id": "C_2Vkb6MmYYF"
      }
    },
    {
      "cell_type": "code",
      "source": [
        "#Calcular y mostrar el resultado de las siguientes operaciones lógicas\n",
        "\n",
        "A=float(input(\"Ingrese el primer número decimal:\"))\n",
        "B=float(input(\"Ingrese el segundo número decimal:\"))\n",
        "C=float(input(\"Ingrese el tercer número decimal:\"))\n",
        "D=float(input(\"Ingrese el cuarto número decimal:\"))\n",
        "print(\"ㅤ\")\n",
        "r1=((A > B) and (B > D))\n",
        "print(\"Esto (A > B y B > D) es\",r1)\n",
        "print(\"ㅤ\")\n",
        "\n",
        "r2=((B <= C) or (C < D))\n",
        "print(\"Esto (B <= C o C < D) es\",r2)\n",
        "print(\"ㅤ\")\n",
        "\n",
        "r3=((A == B) and (B > C))\n",
        "print(\"Esto (A = B y B > C) es\",r3)\n",
        "print(\"ㅤ\")\n",
        "\n",
        "r4=((A < C) or (B < C))\n",
        "print(\"Esto (A < C o B < C) es\",r4)\n",
        "print(\"ㅤ\")\n",
        "\n",
        "r5=((A + D) < (C ) and  (B > 5))\n",
        "print(\"Esto (A + D < C y B > 5) es\",r5)\n",
        "print(\"ㅤ\")\n",
        "\n",
        "r6=((D - C) >= (- A * B))\n",
        "print(\"Esto (D – C >= - A * B) es\",r6)\n",
        "print(\"ㅤ\")\n",
        "\n",
        "r7=((D * C) == (5) or (C * A > 9))\n",
        "print(\"Esto (D * C == 5 o C * A > 9) es\",r7)\n",
        "print(\"ㅤ\")\n",
        "\n",
        "r8=((A * B + C )> (- D * 10))\n",
        "print(\"Esto (A * B + C > - D * 10) es\",r8)"
      ],
      "metadata": {
        "id": "5DpKdVKcmYn7"
      },
      "execution_count": null,
      "outputs": []
    },
    {
      "cell_type": "code",
      "source": [],
      "metadata": {
        "id": "P7HjckwxoTUF"
      },
      "execution_count": null,
      "outputs": []
    }
  ]
}